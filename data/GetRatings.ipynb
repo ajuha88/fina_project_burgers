{
 "cells": [
  {
   "cell_type": "code",
   "execution_count": 7,
   "metadata": {},
   "outputs": [],
   "source": [
    "import requests, json\n",
    "import pandas as pd\n",
    "from config import client_id, client_secret"
   ]
  },
  {
   "cell_type": "code",
   "execution_count": 8,
   "metadata": {},
   "outputs": [
    {
     "data": {
      "text/html": [
       "<div>\n",
       "<style scoped>\n",
       "    .dataframe tbody tr th:only-of-type {\n",
       "        vertical-align: middle;\n",
       "    }\n",
       "\n",
       "    .dataframe tbody tr th {\n",
       "        vertical-align: top;\n",
       "    }\n",
       "\n",
       "    .dataframe thead th {\n",
       "        text-align: right;\n",
       "    }\n",
       "</style>\n",
       "<table border=\"1\" class=\"dataframe\">\n",
       "  <thead>\n",
       "    <tr style=\"text-align: right;\">\n",
       "      <th></th>\n",
       "      <th>Neighborhood</th>\n",
       "      <th>Neighborhood Latitude</th>\n",
       "      <th>Neighborhood Longitude</th>\n",
       "      <th>Venue ID</th>\n",
       "      <th>Venue</th>\n",
       "      <th>Venue Latitude</th>\n",
       "      <th>Venue Longitude</th>\n",
       "      <th>Venue Category</th>\n",
       "    </tr>\n",
       "  </thead>\n",
       "  <tbody>\n",
       "    <tr>\n",
       "      <th>0</th>\n",
       "      <td>Co-op City</td>\n",
       "      <td>40.874294</td>\n",
       "      <td>-73.829939</td>\n",
       "      <td>4be2b79d660ec9284d04ca3b</td>\n",
       "      <td>Townhouse Restaurant</td>\n",
       "      <td>40.876086</td>\n",
       "      <td>-73.828868</td>\n",
       "      <td>Restaurant</td>\n",
       "    </tr>\n",
       "    <tr>\n",
       "      <th>1</th>\n",
       "      <td>Eastchester</td>\n",
       "      <td>40.887556</td>\n",
       "      <td>-73.827806</td>\n",
       "      <td>4c406f2e6c1a9521a042b96a</td>\n",
       "      <td>McDonald's</td>\n",
       "      <td>40.885636</td>\n",
       "      <td>-73.826840</td>\n",
       "      <td>Burger Joint</td>\n",
       "    </tr>\n",
       "    <tr>\n",
       "      <th>2</th>\n",
       "      <td>Kingsbridge</td>\n",
       "      <td>40.881687</td>\n",
       "      <td>-73.902818</td>\n",
       "      <td>55568a71498e3524400a356e</td>\n",
       "      <td>Smashburger</td>\n",
       "      <td>40.884221</td>\n",
       "      <td>-73.900333</td>\n",
       "      <td>Burger Joint</td>\n",
       "    </tr>\n",
       "    <tr>\n",
       "      <th>3</th>\n",
       "      <td>Kingsbridge</td>\n",
       "      <td>40.881687</td>\n",
       "      <td>-73.902818</td>\n",
       "      <td>4b3789f3f964a520f34125e3</td>\n",
       "      <td>Riverdale Diner</td>\n",
       "      <td>40.885183</td>\n",
       "      <td>-73.899484</td>\n",
       "      <td>Diner</td>\n",
       "    </tr>\n",
       "    <tr>\n",
       "      <th>4</th>\n",
       "      <td>Kingsbridge</td>\n",
       "      <td>40.881687</td>\n",
       "      <td>-73.902818</td>\n",
       "      <td>4b9c9c6af964a520b27236e3</td>\n",
       "      <td>Land &amp; Sea Restaurant</td>\n",
       "      <td>40.877885</td>\n",
       "      <td>-73.905873</td>\n",
       "      <td>Seafood Restaurant</td>\n",
       "    </tr>\n",
       "  </tbody>\n",
       "</table>\n",
       "</div>"
      ],
      "text/plain": [
       "  Neighborhood  Neighborhood Latitude  Neighborhood Longitude  \\\n",
       "0   Co-op City              40.874294              -73.829939   \n",
       "1  Eastchester              40.887556              -73.827806   \n",
       "2  Kingsbridge              40.881687              -73.902818   \n",
       "3  Kingsbridge              40.881687              -73.902818   \n",
       "4  Kingsbridge              40.881687              -73.902818   \n",
       "\n",
       "                   Venue ID                  Venue  Venue Latitude  \\\n",
       "0  4be2b79d660ec9284d04ca3b   Townhouse Restaurant       40.876086   \n",
       "1  4c406f2e6c1a9521a042b96a             McDonald's       40.885636   \n",
       "2  55568a71498e3524400a356e            Smashburger       40.884221   \n",
       "3  4b3789f3f964a520f34125e3        Riverdale Diner       40.885183   \n",
       "4  4b9c9c6af964a520b27236e3  Land & Sea Restaurant       40.877885   \n",
       "\n",
       "   Venue Longitude      Venue Category  \n",
       "0       -73.828868          Restaurant  \n",
       "1       -73.826840        Burger Joint  \n",
       "2       -73.900333        Burger Joint  \n",
       "3       -73.899484               Diner  \n",
       "4       -73.905873  Seafood Restaurant  "
      ]
     },
     "execution_count": 8,
     "metadata": {},
     "output_type": "execute_result"
    }
   ],
   "source": [
    "burgers_df = pd.read_csv(\"burger_joints.csv\")\n",
    "burgers_df = burgers_df.drop(\"Unnamed: 0\", axis=1)\n",
    "burgers_df.head()"
   ]
  },
  {
   "cell_type": "code",
   "execution_count": 9,
   "metadata": {},
   "outputs": [],
   "source": [
    "CLIENT_ID = client_id\n",
    "CLIENT_SECRET = client_secret\n",
    "VERSION = \"20180605\""
   ]
  },
  {
   "cell_type": "code",
   "execution_count": 12,
   "metadata": {},
   "outputs": [
    {
     "ename": "KeyError",
     "evalue": "'venue'",
     "output_type": "error",
     "traceback": [
      "\u001b[1;31m---------------------------------------------------------------------------\u001b[0m",
      "\u001b[1;31mKeyError\u001b[0m                                  Traceback (most recent call last)",
      "\u001b[1;32m<ipython-input-12-47e75543d01b>\u001b[0m in \u001b[0;36m<module>\u001b[1;34m()\u001b[0m\n\u001b[0;32m     13\u001b[0m     \u001b[0mresponse\u001b[0m \u001b[1;33m=\u001b[0m \u001b[0mrequests\u001b[0m\u001b[1;33m.\u001b[0m\u001b[0mget\u001b[0m\u001b[1;33m(\u001b[0m\u001b[0murl\u001b[0m\u001b[1;33m=\u001b[0m\u001b[0murl\u001b[0m\u001b[1;33m,\u001b[0m \u001b[0mparams\u001b[0m\u001b[1;33m=\u001b[0m\u001b[0mparams\u001b[0m\u001b[1;33m)\u001b[0m\u001b[1;33m.\u001b[0m\u001b[0mjson\u001b[0m\u001b[1;33m(\u001b[0m\u001b[1;33m)\u001b[0m\u001b[1;33m[\u001b[0m\u001b[1;34m'response'\u001b[0m\u001b[1;33m]\u001b[0m\u001b[1;33m\u001b[0m\u001b[0m\n\u001b[0;32m     14\u001b[0m \u001b[1;33m\u001b[0m\u001b[0m\n\u001b[1;32m---> 15\u001b[1;33m     \u001b[1;32mif\u001b[0m \u001b[1;34m'rating'\u001b[0m \u001b[1;32min\u001b[0m \u001b[0mresponse\u001b[0m\u001b[1;33m[\u001b[0m\u001b[1;34m'venue'\u001b[0m\u001b[1;33m]\u001b[0m\u001b[1;33m.\u001b[0m\u001b[0mkeys\u001b[0m\u001b[1;33m(\u001b[0m\u001b[1;33m)\u001b[0m\u001b[1;33m:\u001b[0m\u001b[1;33m\u001b[0m\u001b[0m\n\u001b[0m\u001b[0;32m     16\u001b[0m         \u001b[0mvenue\u001b[0m \u001b[1;33m=\u001b[0m \u001b[1;33m{\u001b[0m\u001b[1;33m}\u001b[0m\u001b[1;33m\u001b[0m\u001b[0m\n\u001b[0;32m     17\u001b[0m         \u001b[0mvenue\u001b[0m\u001b[1;33m[\u001b[0m\u001b[1;34m'Rating'\u001b[0m\u001b[1;33m]\u001b[0m \u001b[1;33m=\u001b[0m \u001b[0mresponse\u001b[0m\u001b[1;33m[\u001b[0m\u001b[1;34m'venue'\u001b[0m\u001b[1;33m]\u001b[0m\u001b[1;33m[\u001b[0m\u001b[1;34m'rating'\u001b[0m\u001b[1;33m]\u001b[0m\u001b[1;33m\u001b[0m\u001b[0m\n",
      "\u001b[1;31mKeyError\u001b[0m: 'venue'"
     ]
    }
   ],
   "source": [
    "venue_ratings = []\n",
    "\n",
    "for row in burgers_df.iterrows():\n",
    "    url =  f'https://api.foursquare.com/v2/venues/{row[1][3]}/'\n",
    "    \n",
    "    params = dict(\n",
    "        client_id=CLIENT_ID,\n",
    "        client_secret=CLIENT_SECRET,\n",
    "        v=VERSION,\n",
    "        limit=100\n",
    "    )\n",
    "\n",
    "    response = requests.get(url=url, params=params).json()['response']\n",
    "        \n",
    "    if 'rating' in response['venue'].keys():\n",
    "        venue = {}\n",
    "        venue['Rating'] = response['venue']['rating']\n",
    "        venue['Venue ID'] = row[1][3]\n",
    "        venue_ratings.append(venue)"
   ]
  },
  {
   "cell_type": "code",
   "execution_count": 31,
   "metadata": {},
   "outputs": [],
   "source": [
    "ratings_df = pd.DataFrame(venue_ratings)"
   ]
  },
  {
   "cell_type": "code",
   "execution_count": 32,
   "metadata": {},
   "outputs": [
    {
     "data": {
      "text/html": [
       "<div>\n",
       "<style scoped>\n",
       "    .dataframe tbody tr th:only-of-type {\n",
       "        vertical-align: middle;\n",
       "    }\n",
       "\n",
       "    .dataframe tbody tr th {\n",
       "        vertical-align: top;\n",
       "    }\n",
       "\n",
       "    .dataframe thead th {\n",
       "        text-align: right;\n",
       "    }\n",
       "</style>\n",
       "<table border=\"1\" class=\"dataframe\">\n",
       "  <thead>\n",
       "    <tr style=\"text-align: right;\">\n",
       "      <th></th>\n",
       "      <th>rating</th>\n",
       "      <th>venue</th>\n",
       "      <th>venue category</th>\n",
       "      <th>venue lat</th>\n",
       "      <th>venue lon</th>\n",
       "    </tr>\n",
       "  </thead>\n",
       "  <tbody>\n",
       "    <tr>\n",
       "      <th>0</th>\n",
       "      <td>5.8</td>\n",
       "      <td>Townhouse Restaurant</td>\n",
       "      <td>Restaurant</td>\n",
       "      <td>40.876086</td>\n",
       "      <td>-73.828868</td>\n",
       "    </tr>\n",
       "    <tr>\n",
       "      <th>1</th>\n",
       "      <td>6.0</td>\n",
       "      <td>McDonald's</td>\n",
       "      <td>Burger Joint</td>\n",
       "      <td>40.885636</td>\n",
       "      <td>-73.826840</td>\n",
       "    </tr>\n",
       "    <tr>\n",
       "      <th>2</th>\n",
       "      <td>8.4</td>\n",
       "      <td>Smashburger</td>\n",
       "      <td>Burger Joint</td>\n",
       "      <td>40.884221</td>\n",
       "      <td>-73.900333</td>\n",
       "    </tr>\n",
       "    <tr>\n",
       "      <th>3</th>\n",
       "      <td>7.8</td>\n",
       "      <td>Riverdale Diner</td>\n",
       "      <td>Diner</td>\n",
       "      <td>40.885183</td>\n",
       "      <td>-73.899484</td>\n",
       "    </tr>\n",
       "    <tr>\n",
       "      <th>4</th>\n",
       "      <td>7.7</td>\n",
       "      <td>Land &amp; Sea Restaurant</td>\n",
       "      <td>Seafood Restaurant</td>\n",
       "      <td>40.877885</td>\n",
       "      <td>-73.905873</td>\n",
       "    </tr>\n",
       "  </tbody>\n",
       "</table>\n",
       "</div>"
      ],
      "text/plain": [
       "   rating                  venue      venue category  venue lat  venue lon\n",
       "0     5.8   Townhouse Restaurant          Restaurant  40.876086 -73.828868\n",
       "1     6.0             McDonald's        Burger Joint  40.885636 -73.826840\n",
       "2     8.4            Smashburger        Burger Joint  40.884221 -73.900333\n",
       "3     7.8        Riverdale Diner               Diner  40.885183 -73.899484\n",
       "4     7.7  Land & Sea Restaurant  Seafood Restaurant  40.877885 -73.905873"
      ]
     },
     "execution_count": 32,
     "metadata": {},
     "output_type": "execute_result"
    }
   ],
   "source": [
    "ratings_df.head()"
   ]
  },
  {
   "cell_type": "code",
   "execution_count": 33,
   "metadata": {},
   "outputs": [],
   "source": [
    "ratings_df.to_csv(\"ratings.csv\")"
   ]
  }
 ],
 "metadata": {
  "kernelspec": {
   "display_name": "Python 3",
   "language": "python",
   "name": "python3"
  },
  "language_info": {
   "codemirror_mode": {
    "name": "ipython",
    "version": 3
   },
   "file_extension": ".py",
   "mimetype": "text/x-python",
   "name": "python",
   "nbconvert_exporter": "python",
   "pygments_lexer": "ipython3",
   "version": "3.7.0"
  }
 },
 "nbformat": 4,
 "nbformat_minor": 2
}
