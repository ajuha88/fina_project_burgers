{
 "cells": [
  {
   "cell_type": "code",
   "execution_count": 1,
   "metadata": {},
   "outputs": [
    {
     "name": "stderr",
     "output_type": "stream",
     "text": [
      "Using TensorFlow backend.\n"
     ]
    }
   ],
   "source": [
    "import pandas as pd\n",
    "from sklearn.model_selection import train_test_split\n",
    "# from sklearn.preprocessing import StandardScaler\n",
    "from keras.utils import to_categorical\n",
    "from keras.models import Sequential\n",
    "from keras.layers import Dense"
   ]
  },
  {
   "cell_type": "code",
   "execution_count": 2,
   "metadata": {},
   "outputs": [
    {
     "data": {
      "text/html": [
       "<div>\n",
       "<style scoped>\n",
       "    .dataframe tbody tr th:only-of-type {\n",
       "        vertical-align: middle;\n",
       "    }\n",
       "\n",
       "    .dataframe tbody tr th {\n",
       "        vertical-align: top;\n",
       "    }\n",
       "\n",
       "    .dataframe thead th {\n",
       "        text-align: right;\n",
       "    }\n",
       "</style>\n",
       "<table border=\"1\" class=\"dataframe\">\n",
       "  <thead>\n",
       "    <tr style=\"text-align: right;\">\n",
       "      <th></th>\n",
       "      <th>Venue</th>\n",
       "      <th>Venue Category</th>\n",
       "      <th>Venue ID</th>\n",
       "      <th>Venue Latitude</th>\n",
       "      <th>Venue Longitude</th>\n",
       "      <th>gender</th>\n",
       "      <th>id</th>\n",
       "    </tr>\n",
       "  </thead>\n",
       "  <tbody>\n",
       "    <tr>\n",
       "      <th>0</th>\n",
       "      <td>Townhouse Restaurant</td>\n",
       "      <td>40.876086</td>\n",
       "      <td>4be2b79d660ec9284d04ca3b</td>\n",
       "      <td>-73.828868</td>\n",
       "      <td>Restaurant</td>\n",
       "      <td>male</td>\n",
       "      <td>69661369</td>\n",
       "    </tr>\n",
       "    <tr>\n",
       "      <th>1</th>\n",
       "      <td>Townhouse Restaurant</td>\n",
       "      <td>40.876086</td>\n",
       "      <td>4be2b79d660ec9284d04ca3b</td>\n",
       "      <td>-73.828868</td>\n",
       "      <td>Restaurant</td>\n",
       "      <td>male</td>\n",
       "      <td>13000277</td>\n",
       "    </tr>\n",
       "    <tr>\n",
       "      <th>2</th>\n",
       "      <td>Townhouse Restaurant</td>\n",
       "      <td>40.876086</td>\n",
       "      <td>4be2b79d660ec9284d04ca3b</td>\n",
       "      <td>-73.828868</td>\n",
       "      <td>Restaurant</td>\n",
       "      <td>male</td>\n",
       "      <td>100835956</td>\n",
       "    </tr>\n",
       "    <tr>\n",
       "      <th>3</th>\n",
       "      <td>McDonald's</td>\n",
       "      <td>40.885636</td>\n",
       "      <td>4c406f2e6c1a9521a042b96a</td>\n",
       "      <td>-73.826840</td>\n",
       "      <td>Burger Joint</td>\n",
       "      <td>female</td>\n",
       "      <td>89243384</td>\n",
       "    </tr>\n",
       "    <tr>\n",
       "      <th>4</th>\n",
       "      <td>Smashburger</td>\n",
       "      <td>40.884221</td>\n",
       "      <td>55568a71498e3524400a356e</td>\n",
       "      <td>-73.900333</td>\n",
       "      <td>Burger Joint</td>\n",
       "      <td>male</td>\n",
       "      <td>102549100</td>\n",
       "    </tr>\n",
       "  </tbody>\n",
       "</table>\n",
       "</div>"
      ],
      "text/plain": [
       "                  Venue  Venue Category                  Venue ID  \\\n",
       "0  Townhouse Restaurant       40.876086  4be2b79d660ec9284d04ca3b   \n",
       "1  Townhouse Restaurant       40.876086  4be2b79d660ec9284d04ca3b   \n",
       "2  Townhouse Restaurant       40.876086  4be2b79d660ec9284d04ca3b   \n",
       "3            McDonald's       40.885636  4c406f2e6c1a9521a042b96a   \n",
       "4           Smashburger       40.884221  55568a71498e3524400a356e   \n",
       "\n",
       "   Venue Latitude Venue Longitude  gender         id  \n",
       "0      -73.828868      Restaurant    male   69661369  \n",
       "1      -73.828868      Restaurant    male   13000277  \n",
       "2      -73.828868      Restaurant    male  100835956  \n",
       "3      -73.826840    Burger Joint  female   89243384  \n",
       "4      -73.900333    Burger Joint    male  102549100  "
      ]
     },
     "execution_count": 2,
     "metadata": {},
     "output_type": "execute_result"
    }
   ],
   "source": [
    "df = pd.read_csv(\"user_likes.csv\")\n",
    "df = df.drop(\"Unnamed: 0\", axis=1)\n",
    "df.head()"
   ]
  },
  {
   "cell_type": "code",
   "execution_count": 3,
   "metadata": {},
   "outputs": [],
   "source": [
    "venue_id = df[['Venue ID', \"id\"]]\n",
    "venue_coord = df[['Venue Latitude', \"Venue Longitude\", \"id\"]]"
   ]
  },
  {
   "cell_type": "code",
   "execution_count": 5,
   "metadata": {},
   "outputs": [],
   "source": [
    "X = venue_id['id']\n",
    "y = venue_id['Venue ID']\n",
    "\n",
    "X_train, X_test, y_train, y_test = train_test_split(X, y, random_state=1)"
   ]
  },
  {
   "cell_type": "code",
   "execution_count": 6,
   "metadata": {},
   "outputs": [
    {
     "name": "stdout",
     "output_type": "stream",
     "text": [
      "WARNING:tensorflow:From C:\\Users\\kevin\\Anaconda3\\lib\\site-packages\\tensorflow\\python\\framework\\op_def_library.py:263: colocate_with (from tensorflow.python.framework.ops) is deprecated and will be removed in a future version.\n",
      "Instructions for updating:\n",
      "Colocations handled automatically by placer.\n"
     ]
    }
   ],
   "source": [
    "model = Sequential()\n",
    "\n",
    "number_inputs=1\n",
    "number_hidden_nodes=4\n",
    "model.add(Dense(units=number_hidden_nodes, activation='relu', input_dim=number_inputs))"
   ]
  },
  {
   "cell_type": "code",
   "execution_count": 7,
   "metadata": {},
   "outputs": [],
   "source": [
    "model.add(Dense(units=number_hidden_nodes, activation='relu'))"
   ]
  },
  {
   "cell_type": "code",
   "execution_count": 10,
   "metadata": {},
   "outputs": [],
   "source": [
    "model.add(Dense(units=2, activation=\"softmax\"))"
   ]
  },
  {
   "cell_type": "code",
   "execution_count": null,
   "metadata": {},
   "outputs": [],
   "source": []
  }
 ],
 "metadata": {
  "kernelspec": {
   "display_name": "Python 3",
   "language": "python",
   "name": "python3"
  },
  "language_info": {
   "codemirror_mode": {
    "name": "ipython",
    "version": 3
   },
   "file_extension": ".py",
   "mimetype": "text/x-python",
   "name": "python",
   "nbconvert_exporter": "python",
   "pygments_lexer": "ipython3",
   "version": "3.7.0"
  }
 },
 "nbformat": 4,
 "nbformat_minor": 2
}
